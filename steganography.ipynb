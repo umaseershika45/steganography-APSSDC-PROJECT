{
 "cells": [
  {
   "cell_type": "code",
   "execution_count": 6,
   "id": "9791cc10-ade3-4826-96bf-68925f94598c",
   "metadata": {},
   "outputs": [
    {
     "name": "stdout",
     "output_type": "stream",
     "text": [
      "876 934\n"
     ]
    },
    {
     "name": "stdin",
     "output_type": "stream",
     "text": [
      "enter key to edit(security key) : 4578\n",
      "enter text to hide hello friends\n"
     ]
    },
    {
     "name": "stdout",
     "output_type": "stream",
     "text": [
      "data hiding in image completed successfully\n"
     ]
    },
    {
     "name": "stdin",
     "output_type": "stream",
     "text": [
      "\\enter 1 to extract data from the image : 1\n",
      "\n",
      "\n",
      "Renenter key to extract text:  4578\n"
     ]
    },
    {
     "name": "stdout",
     "output_type": "stream",
     "text": [
      "encrypted text was :  hello friends\n"
     ]
    }
   ],
   "source": [
    "import cv2\n",
    "import string\n",
    "import os\n",
    "d={}\n",
    "c={}\n",
    "for i in range(255):\n",
    "    d[chr(i)]=i\n",
    "    c[i]=chr(i)\n",
    "\n",
    "x=cv2.imread(r\"pic1.png\")\n",
    "\n",
    "i=x.shape[0]\n",
    "j=x.shape[1]\n",
    "print(i,j)\n",
    "\n",
    "key=input(\"enter key to edit(security key) :\") #key \n",
    "text=input(\"enter text to hide\") # secret message \n",
    "\n",
    "k1=0\n",
    "tln= len(text)\n",
    "z=0 #decide plane\n",
    "n=0 #number of rows\n",
    "m=0  #number of column\n",
    "\n",
    "l=len(text)\n",
    "\n",
    "for i in range(l):\n",
    "    x[n,m,z]=d[text[i]]^d[key[k1]]\n",
    "    n=n+1\n",
    "    m=m+1\n",
    "    m=(m+1)%3 #this is for every values of z , remainder will be between 0,1,2, . i.e G,R,B plane will be set automatically\n",
    "               #whatever be the value of z , z=(z+1)%3 will always between 0,1,2, the same concept is used for random number in dice and card games\n",
    "\n",
    "    k1=(k1+1)%len(key)\n",
    "\n",
    "cv2.imwrite(\"pic2.png\",x)\n",
    "os.startfile(\"pic2.png\")\n",
    "print(\"data hiding in image completed successfully\")\n",
    "\n",
    "\n",
    "k1=0\n",
    "tln=len(text)\n",
    "z=0 #decides plane\n",
    "n=0 #number of row\n",
    "m=0 #number of column\n",
    "\n",
    "ch=int(input(\"\\enter 1 to extract data from the image :\"))\n",
    "\n",
    "if ch==1:\n",
    "    key1=input(\"\\n\\nRenenter key to extract text: \")\n",
    "    decrypt=\"\"\n",
    "\n",
    "    if key==key1:\n",
    "        for i in range(l):\n",
    "            decrypt+=c[x[n,m,z]^d[key[k1]]]\n",
    "            n=n+1\n",
    "            m=m+1\n",
    "            m=(m+1)%3\n",
    "            k1=(k1+1)%len(key)\n",
    "        print(\"encrypted text was : \", decrypt)\n",
    "    else:\n",
    "        print(\"key doesn't matched\")\n",
    "else:\n",
    "    print(\"thank you, EXITING.\")\n"
   ]
  },
  {
   "cell_type": "code",
   "execution_count": null,
   "id": "29a4cee8-8981-4b31-bac8-c933505ca795",
   "metadata": {},
   "outputs": [],
   "source": []
  }
 ],
 "metadata": {
  "kernelspec": {
   "display_name": "Python 3 (ipykernel)",
   "language": "python",
   "name": "python3"
  },
  "language_info": {
   "codemirror_mode": {
    "name": "ipython",
    "version": 3
   },
   "file_extension": ".py",
   "mimetype": "text/x-python",
   "name": "python",
   "nbconvert_exporter": "python",
   "pygments_lexer": "ipython3",
   "version": "3.11.7"
  }
 },
 "nbformat": 4,
 "nbformat_minor": 5
}
